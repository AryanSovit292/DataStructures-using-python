{
 "cells": [
  {
   "cell_type": "code",
   "execution_count": null,
   "id": "ed6c49ce-2829-4cfa-baa1-daa4b5895738",
   "metadata": {},
   "outputs": [],
   "source": []
  }
 ],
 "metadata": {
  "kernelspec": {
   "display_name": "",
   "name": ""
  },
  "language_info": {
   "name": ""
  }
 },
 "nbformat": 4,
 "nbformat_minor": 5
}
