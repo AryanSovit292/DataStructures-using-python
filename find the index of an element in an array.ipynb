{
 "cells": [
  {
   "cell_type": "code",
   "execution_count": 6,
   "id": "e969df29-d3d9-41bf-9e64-1c95a91c16a6",
   "metadata": {},
   "outputs": [
    {
     "ename": "SyntaxError",
     "evalue": "expected 'except' or 'finally' block (3448889319.py, line 11)",
     "output_type": "error",
     "traceback": [
      "\u001b[1;36m  Cell \u001b[1;32mIn[6], line 11\u001b[1;36m\u001b[0m\n\u001b[1;33m    Except ValueError:\u001b[0m\n\u001b[1;37m    ^\u001b[0m\n\u001b[1;31mSyntaxError\u001b[0m\u001b[1;31m:\u001b[0m expected 'except' or 'finally' block\n"
     ]
    }
   ],
   "source": [
    "#find the index of an ellement in an array \n",
    "import numpy as np\n",
    "x = np.array([10,20,30,40,50])\n",
    "s_ele = int(input())\n",
    "def i_ele(x,s_ele):\n",
    "    try:\n",
    "        n = len(x)\n",
    "        for i in range(n):\n",
    "            if x[i] == s_ele:\n",
    "                return i \n",
    "        raise ValueError(\"Element not found\")\n",
    "    Except ValueError:\n",
    "      return -1\n",
    "return = i_ele(x,s_ele)"
   ]
  },
  {
   "cell_type": "code",
   "execution_count": null,
   "id": "557273af-fb4c-4ae6-8de8-924fe5f62303",
   "metadata": {},
   "outputs": [],
   "source": []
  }
 ],
 "metadata": {
  "kernelspec": {
   "display_name": "Python 3 (ipykernel)",
   "language": "python",
   "name": "python3"
  },
  "language_info": {
   "codemirror_mode": {
    "name": "ipython",
    "version": 3
   },
   "file_extension": ".py",
   "mimetype": "text/x-python",
   "name": "python",
   "nbconvert_exporter": "python",
   "pygments_lexer": "ipython3",
   "version": "3.12.7"
  }
 },
 "nbformat": 4,
 "nbformat_minor": 5
}
