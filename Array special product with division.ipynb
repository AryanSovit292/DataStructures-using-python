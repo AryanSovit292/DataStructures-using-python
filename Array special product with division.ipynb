{
 "cells": [
  {
   "cell_type": "code",
   "execution_count": 5,
   "id": "5725f01c-ac88-410a-96d9-9b56b39efbce",
   "metadata": {},
   "outputs": [
    {
     "name": "stdout",
     "output_type": "stream",
     "text": [
      "Original array: [1 2 3 4 5]\n",
      "Product Array: [120, 60, 40, 30, 24]\n"
     ]
    }
   ],
   "source": [
    "#Array special product with division\n",
    "import numpy as np\n",
    "import math\n",
    "x = np.array([1,2,3,4,5])\n",
    "def prod_ExceptSel_div(X):\n",
    "    total_product = math.prod(x)\n",
    "    prod_arr = []\n",
    "    for i in x:\n",
    "        prod_arr.append(total_product//i)\n",
    "    return prod_arr\n",
    "print(\"Original array:\",x)\n",
    "result = prod_ExceptSel_div(x)\n",
    "print(\"Product Array:\",result)\n",
    "        "
   ]
  },
  {
   "cell_type": "code",
   "execution_count": null,
   "id": "39137d22-cd1b-436f-943e-8947d8762f58",
   "metadata": {},
   "outputs": [],
   "source": []
  }
 ],
 "metadata": {
  "kernelspec": {
   "display_name": "Python 3 (ipykernel)",
   "language": "python",
   "name": "python3"
  },
  "language_info": {
   "codemirror_mode": {
    "name": "ipython",
    "version": 3
   },
   "file_extension": ".py",
   "mimetype": "text/x-python",
   "name": "python",
   "nbconvert_exporter": "python",
   "pygments_lexer": "ipython3",
   "version": "3.12.7"
  }
 },
 "nbformat": 4,
 "nbformat_minor": 5
}
